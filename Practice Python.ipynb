


l=list[1,2,3,4,5]


'welcome to python'


message='haii lalith'
message





5+6
-+5


5+6
_+5


5+6


_+5


def greet():
    print('welcome lalith')


greet()


import keyword
print(keyword.kwlist)


help(keyword)


len(keyword.kwlist)


a=5
b=10


a=!b


a!=b


a=b


a==b


help.keywords


help(keyword)


l


type(l)


sys.version


import sys
sys.version


5+9


5+9/7


a=10


str(a)


type(print('data Science'))


type(print())


a=1
type(a)


b=1.2
type(b)


c=1+2j
type(c)


type(input())


d='string'
type(d)


e=True
type(e)


help(bytearray)


help()





i=int(5.6)
i


f=float(9)
f


s=str(10)
s


b=bool(10)
b


c=complex(5,6)
e=complex(1.9)
print(c)
print(e)


f=bool(0)
f











l=[1,2,3]


l=list()


type(l)


l


l1=list()


type(l1)


l1.append(1)


l1


l1.insert(0,0)


l1


l1.count(1)


l1.pop()


l1.insert(1,1)


l1.remove(1)


l1


l1.clear()


l1


del l1


l1=[1,2,3,4,5,6,7]


l1.reverse()


l1


l1.sort()
l1


l1.sort(reverse=True)


l1


l1.sort()


l1


all(l1)


l1.append(0)


l1


all(l1)


any(l1)


l2=l1.copy()
l2


l1==l2


for i in l1:
    print(i)


for i in enumerate(l2):
    print(i)
    


a='lalith'
b='madhav'
c=a+b
print(c)


type(c)


l1.index(5)


l1[7]=8


l1


print(1)


l3=[1,2,3,'lalith',[10,20,30],'madhav']


l3


l3.append(['lalith','madhav'])


l3


print(l3[4][1])


s='lalith madhav'
s.strip()


s=' lalith madhav '
s.strip()


s.lstrip()


s.rstrip()


l4=l1+l3
print(l4)


l4.extend(l)


print(l4)


l4[::-4]


l4


l4[::-1]


l4.count(1)


l4.count('lalith')


l4.count('madhav')


l4[2:7]


print(l4)


l4[::-2]


l4[:3]


print(l4[::])


l4.append({'muni','kumar'})


print(l4)


l4.append((1,2,3))


print(l4)


print(type(l4))


for i in enumerate(l4):
    print(i)


print(l4[19][2])


l4.count(1)





t=()
t


type(t)


t=(1,2,3,4,5,6)
t


t.count(1)


t.index(3)


len(t)


t.append(8)


t[3]


t[:-1]


t[::-1]


t[2:4]


t1=(1,2,3,'lalith',7799,1+2j,2.6,'madhav','31/05/2000')


t1


for k in t1:
    print(k)


for j in enumerate(t1):
    print(j)


t1.clear()


del t


t


t=sorted(t1)


t=(1,2,3,4,5,6,7)


t+t1


t-t1


type(t1)


t*t1


t3=(4,5,61,2,3)
sorted(t3)


type(t3)


t3


a='lalith'
a*5


t4.remove(6)


t5=(1,2,3,(4,5,6),[7,8,9],{10,11,12})


t5





s={}
print(s)
print(type(s))


s.append(1,2,3,4,5)


s=set()
type(s)


s.append(1,2,3,4)


s.add(1,2,3,4,5)


s.add(1)


s


s1={1,2,3,4,5,6}
s2={4,5,6,7,8,9}
print(s1.difference_update(s2))


s3={'lalith','madhav'}
s4={'madhav','kumar'}
s3|s4


s1|s4


s1^s2


s1 & s2


s1-s2


s2-s1


s1


s2


s1.add(4)


s1.add(5)


s1


s2


s1-s2


s2-s1


s1^s2


s1&s2


s1.issubset(s2)


s2.issuperset(s1)


s5={1,2,3}
s5.issubset(s1)


s1.issuperset(s5)


s1.pop()


print(s1.intersection_update(s2))


s1


s2


s2.isdisjoint(s3)


s3


s3.update(s4)


s3


s3.union(s4)


for i in enumerate(s4):
    print(i)


list(enumerate(s1))





fs=frozenset(s1)


fs


fs1=fs.copy()


fs1


fs1.difference(fs)


fs1.difference(s2)


fs1.isdisjoint(fs)


fs2={1,2,3,4,5}


frozenset(fs2)


fs1.issubset(fs2)


type(fs2)


fs2=frozenset(fs2)


type(fs2)


fs2.symmetric_difference(fs1)





d={}
print(d)
print(type(d))


d=dict()
type(d)


t=tuple()
type(t)


l=list()
type(l)


d={1:10,'a':'apple',1+2j:'complex',(1,2,3):(10,20,30)}


d


d[(1,2,3)]


d[1:3]


d.keys()


d.values()


for i in d:
    print(i)


for i in d:
    print(i,':',d[i])


d.get('a')


d.fromkeys((10,20,30))


d.items()


d.keys()


d.values()


d1={'lalith':'madhav'}
d.update(d1)
print(d1)
print(d)


d.popitem()


d.pop(1)


d


d.clear()


d


del d


d


remove(d1)


d={1:10,'lalith':1+2j,20:True}


d


d1.add(5:False)


d.append(5:False)


d.update(d1)
d


d1={5:False}
d.update(d1)
d


all(d)


d2={False:'lalith'}
d.update(d2)
d


all(d)


any(d)


d[5]


len(d)


d[0]


d


d[False]='kumar'


d


d[1+2j]='muni'


d


for i in d:
    print(i)


for i in d:
    print(i,':',d[i])


for i in enumerate(d):
    print(i)


for i in enumerate(d):
    print(i)


for i,key in enumerate(d):
    print(i,':',key,':',d[key])


for i in enumerate(d):
    print()





range(5)


range(1,5)


range(1,4,2)


r=range(5)


r


for i in range(5):
    print(i)


for i in r:
    print(i)


for i in range(0,100,10):
    print(i)


list(r)





import numpy as np


a=[1,2,3,4,5]
array=np.array(a)


array


np.arange(5)


a=np.arange(12)
print(a)


a=np.arange(12,120,10)


a


a[2:3]


np.random.rand(5,2)


np.random.randint(3,5)


np.zeros(4)


np.ones(5)


np.ones(6,int)


np.ones((5,3))


a=np.array([[0,1,2,3,4],
        [5,6,7,8,9]])
a


a[1:5]


b=np.ones((30,10))
b


np.abs(a)


b=np.reshape(3,)


import numpy as np


np.__version__





my_list=[0,1,2,3,4,5]
my_list


type(my_list)


arr=np.array(my_list)


arr


type(arr)


type(my_list)


np.arange(5)


np.arange(3.0)


np.arange(10)


np.arange(0,5)


np.arange(10,20)


np.arange(20,10)


np.arange(-5,9)


np.arange(-11,-5)


a=np.arange(-30,20)
a


np.arange(10,10)


np.arange(-20,20)


np.arange(10,30,5)


np.arange(0,15,3)


np.arange(0,15,2,2)


z=np.zeros(2)
z


np.zeros(5,dtype=int)


np.zeros((10,10))


np.zeros((2,10))


np.zeros((5,10))


n=(5,7)
n1=(6,8)
print(np.zeros(n,dtype=int))
print(np.zeros(n1,dtype=bool))


np.ones(4)


np.ones(5,dtype=int)


np.ones((5,4),dtype=bool)


from numpy import *
arange(3)


z


y=list(range(12))
y


zeros(5)


random.rand(3,2)


np.random.rand(3,2)


np.random.randint(2,20)


random.randint(1,20,5)


b=np.random.randint(10,40,(10,10))


b[:]


b[::-1]


b[:]


b[0:5]


b[1,2]





arr=random.randint(10,20,(5,4))


arr


arr[::-1]


arr[-5,-3]


arr2=np.random.randint(10,50,(10,10))


arr2


arr2[::-2]


arr2.max()


arr.min()


arr.mean()


arr.median()


median(arr2)


arr2.reshape(2,50)


arr


arr.reshape(4,5,order='C')


arr3=np.arange(6)
arr3


arr3.reshape(3,2,order='C')


arr3.reshape(3,2,order='f')


arr3.reshape(3,2,order='a')


type(arr)


arr.reshape(5,4)





matrix=np.arange(0,50).reshape(5,10)


matrix


row=2
col=5
print(row)
print(col)


matrix[row,col]


matrix[2,5]


matrix[:]


# with Slices
matrix[:,col]


matrix[row,:]


matrix


matrix[:col]


matrix[row:]


matrix[:row]


matrix[col:]


matrix[:,8]


matrix[2,:]


matrix[1,4]


matrix[1:4]


matrix[0]


matrix[:,5]


matrix[4:]


matrix[:3]


mat=np.arange(0,100).reshape(10,10)
mat


mat[0:10]


mat[0:10:3]


mat[4:]


mat[:4]


mat[2:6]


mat


mat[1:2,2:4]


mat[2:3,2:3]


mat[3:5,2:4]


mat[2:4,4:5]





id(mat)


id(matrix)


mat1=mat.copy()


id(mat1)


matrix<50


matrix>100


matrix<=50


matrix[matrix==30]


matrix==30


np.empty([5,5],dtype=int)


np.linspace(0,10,num=5,endpoint=False,retstep=True)


arr4=np.array([4,23,4,5,6,1,3,2,9])
arr4


np.sort(arr4)


arr4


a=np.array([1,2,3])
b=np.array([4,5,6])
np.concatenate((a,b),axis=0)


matrix.ndim


mat.ndim


matrix.size


mat.size


mat.shape


matrix.shape





import numpy as np


#Seasons
Seasons = ["2010","2011","2012","2013","2014","2015","2016","2017","2018","2019"]
Sdict = {"2010":0,"2011":1,"2012":2,"2013":3,"2014":4,"2015":5,"2016":6,"2017":7,"2018":8,"2019":9}


#Players
Players = ["Sachin","Rahul","Smith","Sami","Pollard","Morris","Samson","Dhoni","Kohli","Sky"]
Pdict = {"Sachin":0,"Rahul":1,"Smith":2,"Sami":3,"Pollard":4,"Morris":5,"Samson":6,"Dhoni":7,"Kohli":8,"Sky":9}


#Salaries
Sachin_Salary = [15946875,17718750,19490625,21262500,23034375,24806250,25244493,27849149,30453805,23500000]
Rahul_Salary = [12000000,12744189,13488377,14232567,14976754,16324500,18038573,19752645,21466718,23180790]
Smith_Salary = [4621800,5828090,13041250,14410581,15779912,14500000,16022500,17545000,19067500,20644400]
Sami_Salary = [3713640,4694041,13041250,14410581,15779912,17149243,18518574,19450000,22407474,22458000]
Pollard_Salary = [4493160,4806720,6061274,13758000,15202590,16647180,18091770,19536360,20513178,21436271]
Morris_Salary = [3348000,4235220,12455000,14410581,15779912,14500000,16022500,17545000,19067500,20644400]
Samson_Salary = [3144240,3380160,3615960,4574189,13520500,14940153,16359805,17779458,18668431,20068563]
Dhoni_Salary = [0,0,4171200,4484040,4796880,6053663,15506632,16669630,17832627,18995624]
Kohli_Salary = [0,0,0,4822800,5184480,5546160,6993708,16402500,17632688,18862875]
Sky_Salary = [3031920,3841443,13041250,14410581,15779912,14200000,15691000,17182000,18673000,15000000]


#Matrix
Salary = np.array([Sachin_Salary, Rahul_Salary, Smith_Salary, Sami_Salary, Pollard_Salary, Morris_Salary, Samson_Salary, Dhoni_Salary, Kohli_Salary, Sky_Salary])


Salary


#Games 
Sachin_G = [80,77,82,82,73,82,58,78,6,35]
Rahul_G = [82,57,82,79,76,72,60,72,79,80]
Smith_G = [79,78,75,81,76,79,62,76,77,69]
Sami_G = [80,65,77,66,69,77,55,67,77,40]
Pollard_G = [82,82,82,79,82,78,54,76,71,41]
Morris_G = [70,69,67,77,70,77,57,74,79,44]
Samson_G = [78,64,80,78,45,80,60,70,62,82]
Dhoni_G = [35,35,80,74,82,78,66,81,81,27]
Kohli_G = [40,40,40,81,78,81,39,0,10,51]
Sky_G = [75,51,51,79,77,76,49,69,54,62]


#Matrix
Games = np.array([Sachin_G, Rahul_G, Smith_G, Sami_G, Pollard_G, Morris_G, Samson_G, Dhoni_G, Kohli_G, Sky_G])


Games


#Points
Sachin_PTS = [2832,2430,2323,2201,1970,2078,1616,2133,83,782]
Rahul_PTS = [1653,1426,1779,1688,1619,1312,1129,1170,1245,1154]
Smith_PTS = [2478,2132,2250,2304,2258,2111,1683,2036,2089,1743]
Sami_PTS = [2122,1881,1978,1504,1943,1970,1245,1920,2112,966]
Pollard_PTS = [1292,1443,1695,1624,1503,1784,1113,1296,1297,646]
Morris_PTS = [1572,1561,1496,1746,1678,1438,1025,1232,1281,928]
Samson_PTS = [1258,1104,1684,1781,841,1268,1189,1186,1185,1564]
Dhoni_PTS = [903,903,1624,1871,2472,2161,1850,2280,2593,686]
Kohli_PTS = [597,597,597,1361,1619,2026,852,0,159,904]
Sky_PTS = [2040,1397,1254,2386,2045,1941,1082,1463,1028,1331]


#Matrix
Points = np.array([Sachin_PTS, Rahul_PTS, Smith_PTS, Sami_PTS, Pollard_PTS, Morris_PTS, Samson_PTS, Dhoni_PTS, Kohli_PTS, Sky_PTS])  


Points


m=np.arange(0,20)
print(m)


np.reshape(m,(4,5))


m


m1=np.reshape(m,(5,4),order='c')
m1


m1.ndim


m1[3]


m1[2:]


m1[:2]


m1[1:4]


m1[:]


m1[1,2]


m1[-2,-1]


Games[0]


Games[1:6]


Pdict


Pdict['Sachin']


Salary[Pdict['Dhoni']][Sdict['2019']]


Salary/Games


np.round(Salary/Games)


Games/Salary


np.round(Games/Salary)


# It helps to ignore all the warnings
import warnings
warnings.filterwarnings('ignore')


np.round(Salary/Games)


import matplotlib.pyplot as plt


Salary[0]


%matplotlib inline


plt.plot(Salary[0])


Salary


plt.plot(Salary[0],color='m')


plt.rcParams['figure.figsize']=8,6


plt.plot(Salary[0],c='r',ls='-.')


plt.plot(Salary[0],c='g',ls='--',marker='s')


plt.plot(Salary[0],c='y',ls=':',marker='p')


plt.plot(Salary[1],c='c',ls='-',marker='P',ms=10)


list(range(0,10))


Sdict


Pdict


plt.plot(Salary[0],c='g',ls=':',marker='*',ms=12)
plt.xticks(list(range(0,10)),Seasons)
plt.show()


plt.plot(Salary[0],c='c',ls='--',marker='s',ms=7,label=Players[0])
plt.xticks(list(range(0,10)),Seasons,rotation='vertical')
plt.show()


plt.plot(Salary[0],c='c',ls='--',marker='s',ms=7,label=Players[0])
plt.xticks(list(range(0,10)),Seasons,rotation='vertical')
plt.legend()
plt.show()


plt.plot(Salary[0], c='Green', ls = '--', marker = 's', ms = 7, label = Players[0])
plt.plot(Salary[1], c='Blue', ls = '--', marker = 'o', ms = 7, label = Players[1])
plt.plot(Salary[2], c='Green', ls = '--', marker = '^', ms = 7, label = Players[2])
plt.plot(Salary[3], c='Purple', ls = '--', marker = 'D', ms = 7, label = Players[3])
plt.plot(Salary[4], c='Black', ls = '--', marker = 's', ms = 7, label = Players[4])
plt.plot(Salary[5], c='Red', ls = '--', marker = 'o', ms = 7, label = Players[5])
plt.plot(Salary[6], c='Red', ls = '--', marker = '^', ms = 7, label = Players[6])
plt.plot(Salary[7], c='Red', ls = '--', marker = 'd', ms = 7, label = Players[7])
plt.plot(Salary[8], c='Red', ls = '--', marker = 's', ms = 7, label = Players[8])
plt.plot(Salary[9], c='Red', ls = '--', marker = 'o', ms = 7, label = Players[9])

plt.legend(loc = 'lower right',bbox_to_anchor=(0.5,1))
plt.xticks(list(range(0,10)), Seasons,rotation='vertical')

plt.show()


plt.plot(Games[0], c='Green', ls = '--', marker = 's', ms = 7, label = Players[0])
plt.plot(Games[1], c='Blue', ls = '--', marker = 'o', ms = 7, label = Players[1])
plt.plot(Games[2], c='Green', ls = '--', marker = '^', ms = 7, label = Players[2])
plt.plot(Games[3], c='Red', ls = '--', marker = 'D', ms = 7, label = Players[3])
plt.plot(Games[4], c='Black', ls = '--', marker = 's', ms = 7, label = Players[4])
plt.plot(Games[5], c='Blue', ls = '--', marker = 'o', ms = 7, label = Players[5])
plt.plot(Games[6], c='red', ls = '--', marker = '^', ms = 7, label = Players[6])
plt.plot(Games[7], c='Green', ls = '--', marker = 'd', ms = 7, label = Players[7])
plt.plot(Games[8], c='Red', ls = '--', marker = 's', ms = 7, label = Players[8])
plt.plot(Games[9], c='Blue', ls = '--', marker = 'o', ms = 7, label = Players[9])

plt.legend(loc = 'lower center',bbox_to_anchor=(0,1))
plt.xticks(list(range(0,10)), Seasons)

plt.show()


np.__version__


import sys
sys.version


plt.rcParams['figure.figsize']


import matplotlib.pyplot as plt


pip install notebook












































































































































































































































































































